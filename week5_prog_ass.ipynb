{
 "cells": [
  {
   "cell_type": "markdown",
   "metadata": {},
   "source": [
    "1. Write a Python program to read the data as described above and print out a line listing the grade point average for each student in the following format:\n",
    "\n",
    "Roll Number~Full Name~Grade Point Average\n",
    "Your output should be sorted by Roll Number. The grade point average should be rounded off to 2 digits after the decimal point. Use the built-in function round()."
   ]
  },
  {
   "cell_type": "code",
   "execution_count": null,
   "metadata": {
    "vscode": {
     "languageId": "plaintext"
    }
   },
   "outputs": [],
   "source": [
    "# Define the grade points dictionary\n",
    "grade_points = {\n",
    "    'A': 10,\n",
    "    'AB': 9,\n",
    "    'B': 8,\n",
    "    'BC': 7,\n",
    "    'C': 6,\n",
    "    'CD': 5,\n",
    "    'D': 4\n",
    "}\n",
    "\n",
    "def main():\n",
    "    # Dictionary to store student information (roll number as key)\n",
    "    students = {}\n",
    "    grades = {}\n",
    "\n",
    "    # Read the input\n",
    "    current_section = None\n",
    "    while True:\n",
    "        line = input().strip()\n",
    "        \n",
    "        # Handle the section change\n",
    "        if line == \"Courses\":\n",
    "            current_section = \"Courses\"\n",
    "        elif line == \"Students\":\n",
    "            current_section = \"Students\"\n",
    "        elif line == \"Grades\":\n",
    "            current_section = \"Grades\"\n",
    "        elif line == \"EndOfInput\":\n",
    "            break\n",
    "        else:\n",
    "            if current_section == \"Courses\":\n",
    "                # Ignoring course information as it's not needed for GPA computation\n",
    "                pass\n",
    "            elif current_section == \"Students\":\n",
    "                # Split and store student information\n",
    "                roll_number, full_name = line.split('~')\n",
    "                students[roll_number] = full_name\n",
    "                grades[roll_number] = []  # Initialize an empty list for grades\n",
    "            elif current_section == \"Grades\":\n",
    "                # Split the grade data\n",
    "                course_code, semester, year, roll_number, grade = line.split('~')\n",
    "                if roll_number in grades:\n",
    "                    grades[roll_number].append(grade_points[grade])  # Add grade points to the student's list\n",
    "\n",
    "    # Now calculate the GPAs for each student\n",
    "    result = []\n",
    "    for roll_number in sorted(students.keys()):\n",
    "        full_name = students[roll_number]\n",
    "        if roll_number in grades and grades[roll_number]:\n",
    "            # Calculate the GPA (average grade points)\n",
    "            gpa = sum(grades[roll_number]) / len(grades[roll_number])\n",
    "        else:\n",
    "            # If no grades, GPA is 0\n",
    "            gpa = 0\n",
    "        result.append(f\"{roll_number}~{full_name}~{round(gpa, 2)}\")\n",
    "    \n",
    "    # Output the result\n",
    "    print(\"\\n\".join(result))\n",
    "\n",
    "# Execute the program\n",
    "main()\n"
   ]
  }
 ],
 "metadata": {
  "language_info": {
   "name": "python"
  }
 },
 "nbformat": 4,
 "nbformat_minor": 2
}
