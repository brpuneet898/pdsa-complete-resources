{
 "cells": [
  {
   "cell_type": "markdown",
   "metadata": {},
   "source": [
    "# Week 1 Quiz"
   ]
  },
  {
   "cell_type": "markdown",
   "metadata": {},
   "source": [
    "Question 1 - What is the value of f(8538) for the function below?"
   ]
  },
  {
   "cell_type": "code",
   "execution_count": 1,
   "metadata": {},
   "outputs": [
    {
     "name": "stdout",
     "output_type": "stream",
     "text": [
      "9\n"
     ]
    }
   ],
   "source": [
    "def f(x):\n",
    "    d=0\n",
    "    y=1\n",
    "    while y<=x:\n",
    "        d=d+1\n",
    "        y=y*3 \n",
    "    return d\n",
    "print(f(8538))"
   ]
  },
  {
   "cell_type": "markdown",
   "metadata": {},
   "source": [
    "Question 2 - What is h(61)-h(60), given the definition of h below?"
   ]
  },
  {
   "cell_type": "code",
   "execution_count": 2,
   "metadata": {},
   "outputs": [
    {
     "name": "stdout",
     "output_type": "stream",
     "text": [
      "11\n"
     ]
    }
   ],
   "source": [
    "def h(n):\n",
    "    s=0\n",
    "    for i in range(1, n+1):\n",
    "        if n%i > 0:\n",
    "            s=s+1\n",
    "    return s\n",
    "print(h(61)-h(60))"
   ]
  },
  {
   "cell_type": "markdown",
   "metadata": {},
   "source": [
    "Question 3 - For what integer value n would g(87,n) return 12?"
   ]
  },
  {
   "cell_type": "code",
   "execution_count": 14,
   "metadata": {},
   "outputs": [
    {
     "name": "stdout",
     "output_type": "stream",
     "text": [
      "12\n"
     ]
    }
   ],
   "source": [
    "def g(m,n):\n",
    "    res=0\n",
    "    while m>=n:\n",
    "        res = res+1\n",
    "        m = m-n\n",
    "    return res\n",
    "print(g(87,7))"
   ]
  },
  {
   "cell_type": "markdown",
   "metadata": {},
   "source": [
    "Question 4 - Consider the following function mys:\n",
    "\n",
    "```{python}\n",
    "def mys(m):\n",
    "    if m == 1:\n",
    "        return(1)\n",
    "    else:\n",
    "        return(m*mys(m-1))\n",
    "```\n",
    "\n",
    "Which of the following is correct, assuming we always pass an integer argument to mys?\n",
    " - The function always terminates with mys(n) = factorial of n\n",
    " - The function always terminates with mys(n) = 1+2+...+n\n",
    " - The function terminates for non-negative n with mys(n) = factorial of n\n",
    " - The function terminates for positive n with mys(n) = factorial of n"
   ]
  }
 ],
 "metadata": {
  "kernelspec": {
   "display_name": "Python 3",
   "language": "python",
   "name": "python3"
  },
  "language_info": {
   "codemirror_mode": {
    "name": "ipython",
    "version": 3
   },
   "file_extension": ".py",
   "mimetype": "text/x-python",
   "name": "python",
   "nbconvert_exporter": "python",
   "pygments_lexer": "ipython3",
   "version": "3.11.4"
  }
 },
 "nbformat": 4,
 "nbformat_minor": 2
}
