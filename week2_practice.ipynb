{
 "cells": [
  {
   "cell_type": "markdown",
   "metadata": {},
   "source": [
    "# L1: Assignment statement, basic types - int, float, bool"
   ]
  },
  {
   "cell_type": "code",
   "execution_count": 2,
   "metadata": {},
   "outputs": [
    {
     "name": "stdout",
     "output_type": "stream",
     "text": [
      "<class 'int'>\n",
      "<class 'float'>\n",
      "<class 'float'>\n"
     ]
    }
   ],
   "source": [
    "i = 5\n",
    "print(type(i))\n",
    "j = 7.5\n",
    "print(type(j))\n",
    "i = 2*j\n",
    "print(type(i))"
   ]
  },
  {
   "cell_type": "code",
   "execution_count": null,
   "metadata": {},
   "outputs": [],
   "source": [
    "def divides(m, n):\n",
    "    if n%m==0:\n",
    "        return(True)\n",
    "    else:\n",
    "        return(False)\n",
    "\n",
    "def even(n):\n",
    "    return(divides(2,n))\n",
    "\n",
    "def odd(n):\n",
    "    return(not divides(2,n))"
   ]
  },
  {
   "cell_type": "markdown",
   "metadata": {},
   "source": [
    "# L2: Strings"
   ]
  },
  {
   "cell_type": "code",
   "execution_count": 3,
   "metadata": {},
   "outputs": [
    {
     "name": "stdout",
     "output_type": "stream",
     "text": [
      "Chennai\n",
      "<class 'str'>\n",
      "first line\n",
      "second line\n",
      "third line\n"
     ]
    }
   ],
   "source": [
    "s = 'Chennai'\n",
    "print(s)\n",
    "print(type(s))\n",
    "\n",
    "dialogue = '''first line\n",
    "second line\n",
    "third line'''\n",
    "print(dialogue)"
   ]
  },
  {
   "cell_type": "code",
   "execution_count": 4,
   "metadata": {},
   "outputs": [
    {
     "name": "stdout",
     "output_type": "stream",
     "text": [
      "hellothere\n"
     ]
    }
   ],
   "source": [
    "s = 'hello'\n",
    "t = 'there'\n",
    "print(s+t)"
   ]
  },
  {
   "cell_type": "code",
   "execution_count": 5,
   "metadata": {},
   "outputs": [
    {
     "name": "stdout",
     "output_type": "stream",
     "text": [
      "ell\n",
      "hel\n",
      "llo\n"
     ]
    }
   ],
   "source": [
    "print(s[1:4])\n",
    "print(s[:3])\n",
    "print(s[2:])"
   ]
  },
  {
   "cell_type": "markdown",
   "metadata": {},
   "source": [
    "# L3: Lists"
   ]
  },
  {
   "cell_type": "code",
   "execution_count": 6,
   "metadata": {},
   "outputs": [
    {
     "name": "stdout",
     "output_type": "stream",
     "text": [
      "[[2, [37]], 4, ['hello']]\n",
      "[2, [37]]\n",
      "l\n"
     ]
    }
   ],
   "source": [
    "nested = [[2, [37]], 4, [\"hello\"]]\n",
    "print(nested)\n",
    "print(nested[0])\n",
    "print(nested[2][0][3])"
   ]
  },
  {
   "cell_type": "code",
   "execution_count": 7,
   "metadata": {},
   "outputs": [
    {
     "name": "stdout",
     "output_type": "stream",
     "text": [
      "[[2, [37]], 7, ['hello']]\n"
     ]
    }
   ],
   "source": [
    "nested[1]=7\n",
    "print(nested)"
   ]
  },
  {
   "cell_type": "code",
   "execution_count": 8,
   "metadata": {},
   "outputs": [
    {
     "name": "stdout",
     "output_type": "stream",
     "text": [
      "5\n",
      "5\n"
     ]
    }
   ],
   "source": [
    "x = 5\n",
    "y = x\n",
    "print(y)\n",
    "x = 7\n",
    "print(y)"
   ]
  },
  {
   "cell_type": "code",
   "execution_count": 9,
   "metadata": {},
   "outputs": [
    {
     "name": "stdout",
     "output_type": "stream",
     "text": [
      "[1, 3, 5, 7]\n",
      "[1, 3, 4, 7]\n"
     ]
    }
   ],
   "source": [
    "list1 = [1,3,5,7]\n",
    "list2 = list1\n",
    "print(list2)\n",
    "list1[2] = 4\n",
    "print(list2)"
   ]
  },
  {
   "cell_type": "code",
   "execution_count": 10,
   "metadata": {},
   "outputs": [
    {
     "name": "stdout",
     "output_type": "stream",
     "text": [
      "[1, 3, 5, 7]\n",
      "[1, 3, 5, 7]\n"
     ]
    }
   ],
   "source": [
    "list1 = [1,3,5,7]\n",
    "list2 = list1[:]\n",
    "print(list2)\n",
    "list1[2] = 4\n",
    "print(list2)"
   ]
  },
  {
   "cell_type": "code",
   "execution_count": 12,
   "metadata": {},
   "outputs": [
    {
     "name": "stdout",
     "output_type": "stream",
     "text": [
      "True\n",
      "False\n",
      "True\n",
      "True\n"
     ]
    }
   ],
   "source": [
    "list1 = [1,3,5,7]\n",
    "list2 = [1,3,5,7]\n",
    "list3 = list2\n",
    "print(list1==list2)\n",
    "print(list1 is list2)\n",
    "print(list3==list2)\n",
    "print(list3 is list2)"
   ]
  },
  {
   "cell_type": "code",
   "execution_count": 13,
   "metadata": {},
   "outputs": [
    {
     "name": "stdout",
     "output_type": "stream",
     "text": [
      "[1, 3, 5, 7, 2, 4, 6, 8]\n"
     ]
    }
   ],
   "source": [
    "list1 = [1,3,5,7]\n",
    "list2 = [2,4,6,8]\n",
    "print(list1+list2)"
   ]
  },
  {
   "cell_type": "markdown",
   "metadata": {},
   "source": [
    "# L5 - Functions"
   ]
  },
  {
   "cell_type": "code",
   "execution_count": 14,
   "metadata": {},
   "outputs": [
    {
     "name": "stdout",
     "output_type": "stream",
     "text": [
      "True\n"
     ]
    }
   ],
   "source": [
    "def update(l,i,v):\n",
    "    if i>=0 and i<len(l):\n",
    "        return True\n",
    "    else:\n",
    "        return False\n",
    "\n",
    "ns=[3,11,12]\n",
    "z=8\n",
    "print(update(ns,2,z))"
   ]
  },
  {
   "cell_type": "code",
   "execution_count": 15,
   "metadata": {},
   "outputs": [
    {
     "name": "stdout",
     "output_type": "stream",
     "text": [
      "81\n"
     ]
    }
   ],
   "source": [
    "def f(x):\n",
    "    return(g(x+1))\n",
    "\n",
    "def g(x):\n",
    "    return(x+3)\n",
    "\n",
    "z = f(77)\n",
    "print(z)"
   ]
  },
  {
   "cell_type": "markdown",
   "metadata": {},
   "source": [
    "# L6: Exercises"
   ]
  },
  {
   "cell_type": "code",
   "execution_count": 16,
   "metadata": {},
   "outputs": [],
   "source": [
    "def factors(n):\n",
    "    fl = []\n",
    "    for i in range(1, n+1):\n",
    "        if n%i==0:\n",
    "            fl = fl+[i]\n",
    "    return fl"
   ]
  },
  {
   "cell_type": "code",
   "execution_count": 17,
   "metadata": {},
   "outputs": [],
   "source": [
    "def isprime(n):\n",
    "    return(factors(n)==[1,n])\n",
    "\n",
    "def primesupto(n):\n",
    "    pl = []\n",
    "    for i in range(1, n+1):\n",
    "        if isprime(i):\n",
    "            pl.append(i)\n",
    "    return pl\n",
    "\n",
    "def nprimes(n):\n",
    "    count, i, pl = 0, 1, []\n",
    "    while count<n:\n",
    "        if isprime(i):\n",
    "            count, pl = count+1, pl.append(i)\n",
    "        i = i+1\n",
    "    return pl"
   ]
  }
 ],
 "metadata": {
  "kernelspec": {
   "display_name": "Python 3",
   "language": "python",
   "name": "python3"
  },
  "language_info": {
   "codemirror_mode": {
    "name": "ipython",
    "version": 3
   },
   "file_extension": ".py",
   "mimetype": "text/x-python",
   "name": "python",
   "nbconvert_exporter": "python",
   "pygments_lexer": "ipython3",
   "version": "3.11.4"
  }
 },
 "nbformat": 4,
 "nbformat_minor": 2
}
