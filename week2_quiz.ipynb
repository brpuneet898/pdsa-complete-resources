{
 "cells": [
  {
   "cell_type": "markdown",
   "metadata": {},
   "source": [
    "Question 1: In the following 10 statements, which is the first one that generates an error? (Your answer should be a number between 1 and 10.)"
   ]
  },
  {
   "cell_type": "code",
   "execution_count": 1,
   "metadata": {},
   "outputs": [
    {
     "ename": "TypeError",
     "evalue": "'int' object does not support item assignment",
     "output_type": "error",
     "traceback": [
      "\u001b[1;31m---------------------------------------------------------------------------\u001b[0m",
      "\u001b[1;31mTypeError\u001b[0m                                 Traceback (most recent call last)",
      "Cell \u001b[1;32mIn[1], line 9\u001b[0m\n\u001b[0;32m      7\u001b[0m y[\u001b[38;5;241m1\u001b[39m][\u001b[38;5;241m1\u001b[39m:\u001b[38;5;241m3\u001b[39m] \u001b[38;5;241m=\u001b[39m [\u001b[38;5;241m5\u001b[39m,\u001b[38;5;241m8\u001b[39m]               \u001b[38;5;66;03m# Statement 7\u001b[39;00m\n\u001b[0;32m      8\u001b[0m w[\u001b[38;5;241m4\u001b[39m][\u001b[38;5;241m0\u001b[39m] \u001b[38;5;241m=\u001b[39m \u001b[38;5;241m1000\u001b[39m                  \u001b[38;5;66;03m# Statement 8\u001b[39;00m\n\u001b[1;32m----> 9\u001b[0m \u001b[43mx\u001b[49m\u001b[43m[\u001b[49m\u001b[38;5;241;43m4\u001b[39;49m\u001b[43m]\u001b[49m\u001b[43m[\u001b[49m\u001b[38;5;241;43m0\u001b[39;49m\u001b[43m]\u001b[49m \u001b[38;5;241m=\u001b[39m \u001b[38;5;241m0\u001b[39m                     \u001b[38;5;66;03m# Statement 9\u001b[39;00m\n\u001b[0;32m     10\u001b[0m a \u001b[38;5;241m=\u001b[39m (x[\u001b[38;5;241m4\u001b[39m][\u001b[38;5;241m1\u001b[39m] \u001b[38;5;241m==\u001b[39m \u001b[38;5;241m4\u001b[39m)              \u001b[38;5;66;03m# Statement 10\u001b[39;00m\n",
      "\u001b[1;31mTypeError\u001b[0m: 'int' object does not support item assignment"
     ]
    }
   ],
   "source": [
    "x = [\"hair\",[23,4],2,\"pin\",[5]] # Statement 1\n",
    "y = x[0:8]                      # Statement 2\n",
    "z = x                           # Statement 3\n",
    "w = y                           # Statement 4\n",
    "z[4] = 10                       # Statement 5\n",
    "y[3] = y[3][0:3] + 'k'          # Statement 6\n",
    "y[1][1:3] = [5,8]               # Statement 7\n",
    "w[4][0] = 1000                  # Statement 8\n",
    "x[4][0] = 0                     # Statement 9\n",
    "a = (x[4][1] == 4)              # Statement 10"
   ]
  },
  {
   "cell_type": "markdown",
   "metadata": {},
   "source": [
    "Question 2: Consider the following lines of Python code.\n",
    "\n",
    "After these execute, which of the following is correct?\n",
    " x[3] == 723, y[1] == 43, u[3] == 723, w[1] == 357\n",
    " x[3] == 723, y[1] == 357, u[3] == 723, w[1] == 357\n",
    " x[3] == 723, y[1] == 43, u[3] == 43, w[1] == 357\n",
    " x[3] == 723, y[1] == 357, u[3] == 43, w[1] == 357"
   ]
  },
  {
   "cell_type": "code",
   "execution_count": 2,
   "metadata": {},
   "outputs": [
    {
     "name": "stdout",
     "output_type": "stream",
     "text": [
      "723\n",
      "43\n",
      "723\n",
      "357\n"
     ]
    }
   ],
   "source": [
    "x = ['super',397,'king',43]\n",
    "y = x[2:]\n",
    "u = x\n",
    "w = y\n",
    "w = w[0:]\n",
    "w[1] = 357\n",
    "x[3:4] = [723]\n",
    "\n",
    "print(x[3])\n",
    "print(y[1])\n",
    "print(u[3])\n",
    "print(w[1])"
   ]
  },
  {
   "cell_type": "markdown",
   "metadata": {},
   "source": [
    "Question 3: What is the value of second after executing the following lines?"
   ]
  },
  {
   "cell_type": "code",
   "execution_count": 3,
   "metadata": {},
   "outputs": [
    {
     "name": "stdout",
     "output_type": "stream",
     "text": [
      "peoatl\n"
     ]
    }
   ],
   "source": [
    "first = \"pterodactyl\"\n",
    "second = \"\"\n",
    "for i in range(len(first)-1,-1,-2):\n",
    "  second = first[i]+second\n",
    "\n",
    "print(second)"
   ]
  },
  {
   "cell_type": "markdown",
   "metadata": {},
   "source": [
    "Question 4: What is the value of list1 after the following lines are executed?"
   ]
  },
  {
   "cell_type": "code",
   "execution_count": 5,
   "metadata": {},
   "outputs": [
    {
     "name": "stdout",
     "output_type": "stream",
     "text": [
      "[34, 23, 91, 78, 23, 91, 42]\n"
     ]
    }
   ],
   "source": [
    "def mystery(l):\n",
    "  l[1:3] = l[4:6]\n",
    "  return()\n",
    "\n",
    "list1 = [34,69,12,78,23,91,42]\n",
    "mystery(list1)\n",
    "\n",
    "print(list1)"
   ]
  }
 ],
 "metadata": {
  "kernelspec": {
   "display_name": "Python 3",
   "language": "python",
   "name": "python3"
  },
  "language_info": {
   "codemirror_mode": {
    "name": "ipython",
    "version": 3
   },
   "file_extension": ".py",
   "mimetype": "text/x-python",
   "name": "python",
   "nbconvert_exporter": "python",
   "pygments_lexer": "ipython3",
   "version": "3.11.4"
  }
 },
 "nbformat": 4,
 "nbformat_minor": 2
}
