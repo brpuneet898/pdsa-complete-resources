{
 "cells": [
  {
   "cell_type": "markdown",
   "metadata": {},
   "source": [
    "1. Write a Python function rainaverage(l) that takes as input a list of rainfall recordings and computes the avarage rainfall for each city. The output should be a list of pairs (c,ar) where c is the city and ar is the average rainfall for this city among the recordings in the input list. Note that ar should be of type float. The output should be sorted in dictionary order with respect to the city name."
   ]
  },
  {
   "cell_type": "code",
   "execution_count": null,
   "metadata": {},
   "outputs": [],
   "source": [
    "def rainaverage(l):\n",
    "    rainfall_data = {}\n",
    "    for city, rainfall in l:\n",
    "        if city in rainfall_data:\n",
    "            rainfall_data[city][0] += rainfall  \n",
    "            rainfall_data[city][1] += 1      \n",
    "        else:\n",
    "            rainfall_data[city] = [rainfall, 1] \n",
    "    averages = [(city, rainfall_sum / count) for city, (rainfall_sum, count) in rainfall_data.items()]\n",
    "    averages.sort()\n",
    "    return averages"
   ]
  },
  {
   "cell_type": "markdown",
   "metadata": {},
   "source": [
    "2. Write a Python function flatten(l) that takes a nonempty list of lists and returns a simple list of all the elements in the nested lists, flattened out. You can make use of the following function that returns True if its input is of type list."
   ]
  },
  {
   "cell_type": "code",
   "execution_count": null,
   "metadata": {},
   "outputs": [],
   "source": [
    "def listtype(l):\n",
    "    return type(l) == type([])\n",
    "\n",
    "def flatten(l):\n",
    "    flat_list = []\n",
    "    for item in l:\n",
    "        if listtype(item):  \n",
    "            flat_list.extend(flatten(item))  \n",
    "        else:\n",
    "            flat_list.append(item)  \n",
    "    return flat_list"
   ]
  }
 ],
 "metadata": {
  "kernelspec": {
   "display_name": "Python 3",
   "language": "python",
   "name": "python3"
  },
  "language_info": {
   "name": "python",
   "version": "3.11.4"
  }
 },
 "nbformat": 4,
 "nbformat_minor": 2
}
